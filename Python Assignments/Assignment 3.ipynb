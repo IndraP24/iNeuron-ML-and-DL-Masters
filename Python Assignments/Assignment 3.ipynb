{
 "cells": [
  {
   "cell_type": "code",
   "execution_count": 14,
   "id": "27b15958",
   "metadata": {
    "ExecuteTime": {
     "end_time": "2021-05-16T15:59:35.565829Z",
     "start_time": "2021-05-16T15:59:35.561939Z"
    }
   },
   "outputs": [],
   "source": [
    "import operator\n",
    "from functools import reduce"
   ]
  },
  {
   "cell_type": "markdown",
   "id": "3a248e28",
   "metadata": {},
   "source": [
    "# Problem 1\n",
    "Write a Python Program to implement your own myreduce() function which works exactly like Python's built-in function reduce()"
   ]
  },
  {
   "cell_type": "code",
   "execution_count": 9,
   "id": "2c2244ee",
   "metadata": {
    "ExecuteTime": {
     "end_time": "2021-05-16T15:27:29.884913Z",
     "start_time": "2021-05-16T15:27:29.539347Z"
    }
   },
   "outputs": [],
   "source": [
    "def myreduce(fun, seq, initializer=None):\n",
    "    seqn = iter(seq)\n",
    "    \n",
    "    if initializer==None:\n",
    "        value = next(seqn)\n",
    "    else:\n",
    "        value = initializer\n",
    "        \n",
    "    for element in seqn:\n",
    "        value = fun(value, element)\n",
    "    return value"
   ]
  },
  {
   "cell_type": "code",
   "execution_count": 17,
   "id": "afcd8d93",
   "metadata": {
    "ExecuteTime": {
     "end_time": "2021-05-16T16:01:29.000593Z",
     "start_time": "2021-05-16T16:01:28.985598Z"
    }
   },
   "outputs": [
    {
     "data": {
      "text/plain": [
       "(15, 15)"
      ]
     },
     "execution_count": 17,
     "metadata": {},
     "output_type": "execute_result"
    }
   ],
   "source": [
    "list1 = [1,2,3,4,5]\n",
    "myreduce(lambda a,b:a+b, list1), myreduce(operator.add, list1)"
   ]
  },
  {
   "cell_type": "code",
   "execution_count": 18,
   "id": "99c9892a",
   "metadata": {
    "ExecuteTime": {
     "end_time": "2021-05-16T16:01:29.778239Z",
     "start_time": "2021-05-16T16:01:29.770203Z"
    }
   },
   "outputs": [
    {
     "data": {
      "text/plain": [
       "(15, 15)"
      ]
     },
     "execution_count": 18,
     "metadata": {},
     "output_type": "execute_result"
    }
   ],
   "source": [
    "reduce(lambda a,b:a+b, list1), reduce(operator.add, list1)"
   ]
  },
  {
   "cell_type": "markdown",
   "id": "e98ba777",
   "metadata": {},
   "source": [
    "# Problem 2\n",
    "Write a Python program to implement your own myfilter() function which works exactly like Python's built-in function filter()"
   ]
  },
  {
   "cell_type": "code",
   "execution_count": 40,
   "id": "37aa8931",
   "metadata": {
    "ExecuteTime": {
     "end_time": "2021-05-16T18:30:20.036973Z",
     "start_time": "2021-05-16T18:30:20.021350Z"
    }
   },
   "outputs": [],
   "source": [
    "def myfilter(fun, seq):\n",
    "    seqn = iter(seq)\n",
    "    res = []\n",
    "    \n",
    "    for element in seqn:\n",
    "        if fun(element)==True:\n",
    "            res.append(element)\n",
    "    return res"
   ]
  },
  {
   "cell_type": "code",
   "execution_count": 41,
   "id": "cc500358",
   "metadata": {
    "ExecuteTime": {
     "end_time": "2021-05-16T18:30:30.758344Z",
     "start_time": "2021-05-16T18:30:30.750348Z"
    }
   },
   "outputs": [
    {
     "data": {
      "text/plain": [
       "[2, 4]"
      ]
     },
     "execution_count": 41,
     "metadata": {},
     "output_type": "execute_result"
    }
   ],
   "source": [
    "myfilter(lambda x:x%2==0, list1)"
   ]
  },
  {
   "cell_type": "markdown",
   "id": "7c612cf9",
   "metadata": {},
   "source": [
    "# Problem 3\n"
   ]
  }
 ],
 "metadata": {
  "kernelspec": {
   "display_name": "MainEnv",
   "language": "python",
   "name": "mainenv"
  },
  "language_info": {
   "codemirror_mode": {
    "name": "ipython",
    "version": 3
   },
   "file_extension": ".py",
   "mimetype": "text/x-python",
   "name": "python",
   "nbconvert_exporter": "python",
   "pygments_lexer": "ipython3",
   "version": "3.8.5"
  },
  "toc": {
   "base_numbering": 1,
   "nav_menu": {},
   "number_sections": true,
   "sideBar": true,
   "skip_h1_title": false,
   "title_cell": "Table of Contents",
   "title_sidebar": "Contents",
   "toc_cell": false,
   "toc_position": {},
   "toc_section_display": true,
   "toc_window_display": false
  },
  "varInspector": {
   "cols": {
    "lenName": 16,
    "lenType": 16,
    "lenVar": 40
   },
   "kernels_config": {
    "python": {
     "delete_cmd_postfix": "",
     "delete_cmd_prefix": "del ",
     "library": "var_list.py",
     "varRefreshCmd": "print(var_dic_list())"
    },
    "r": {
     "delete_cmd_postfix": ") ",
     "delete_cmd_prefix": "rm(",
     "library": "var_list.r",
     "varRefreshCmd": "cat(var_dic_list()) "
    }
   },
   "types_to_exclude": [
    "module",
    "function",
    "builtin_function_or_method",
    "instance",
    "_Feature"
   ],
   "window_display": false
  }
 },
 "nbformat": 4,
 "nbformat_minor": 5
}
